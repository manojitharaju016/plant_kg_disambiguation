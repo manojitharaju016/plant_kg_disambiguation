{
 "cells": [
  {
   "cell_type": "markdown",
   "metadata": {},
   "source": [
    "# Creating the database"
   ]
  },
  {
   "cell_type": "code",
   "execution_count": 1,
   "metadata": {},
   "outputs": [
    {
     "ename": "MilvusException",
     "evalue": "<MilvusException: (code=2, message=Fail connecting to server on localhost:19530, illegal connection params or server unavailable)>",
     "output_type": "error",
     "traceback": [
      "\u001b[0;31m---------------------------------------------------------------------------\u001b[0m",
      "\u001b[0;31mFutureTimeoutError\u001b[0m                        Traceback (most recent call last)",
      "File \u001b[0;32m/opt/anaconda3/envs/PhD/lib/python3.12/site-packages/pymilvus/client/grpc_handler.py:149\u001b[0m, in \u001b[0;36mGrpcHandler._wait_for_channel_ready\u001b[0;34m(self, timeout)\u001b[0m\n\u001b[1;32m    148\u001b[0m \u001b[38;5;28;01mtry\u001b[39;00m:\n\u001b[0;32m--> 149\u001b[0m     \u001b[43mgrpc\u001b[49m\u001b[38;5;241;43m.\u001b[39;49m\u001b[43mchannel_ready_future\u001b[49m\u001b[43m(\u001b[49m\u001b[38;5;28;43mself\u001b[39;49m\u001b[38;5;241;43m.\u001b[39;49m\u001b[43m_channel\u001b[49m\u001b[43m)\u001b[49m\u001b[38;5;241;43m.\u001b[39;49m\u001b[43mresult\u001b[49m\u001b[43m(\u001b[49m\u001b[43mtimeout\u001b[49m\u001b[38;5;241;43m=\u001b[39;49m\u001b[43mtimeout\u001b[49m\u001b[43m)\u001b[49m\n\u001b[1;32m    150\u001b[0m     \u001b[38;5;28mself\u001b[39m\u001b[38;5;241m.\u001b[39m_setup_identifier_interceptor(\u001b[38;5;28mself\u001b[39m\u001b[38;5;241m.\u001b[39m_user, timeout\u001b[38;5;241m=\u001b[39mtimeout)\n",
      "File \u001b[0;32m/opt/anaconda3/envs/PhD/lib/python3.12/site-packages/grpc/_utilities.py:162\u001b[0m, in \u001b[0;36m_ChannelReadyFuture.result\u001b[0;34m(self, timeout)\u001b[0m\n\u001b[1;32m    161\u001b[0m \u001b[38;5;28;01mdef\u001b[39;00m\u001b[38;5;250m \u001b[39m\u001b[38;5;21mresult\u001b[39m(\u001b[38;5;28mself\u001b[39m, timeout: Optional[\u001b[38;5;28mfloat\u001b[39m] \u001b[38;5;241m=\u001b[39m \u001b[38;5;28;01mNone\u001b[39;00m) \u001b[38;5;241m-\u001b[39m\u001b[38;5;241m>\u001b[39m \u001b[38;5;28;01mNone\u001b[39;00m:\n\u001b[0;32m--> 162\u001b[0m     \u001b[38;5;28;43mself\u001b[39;49m\u001b[38;5;241;43m.\u001b[39;49m\u001b[43m_block\u001b[49m\u001b[43m(\u001b[49m\u001b[43mtimeout\u001b[49m\u001b[43m)\u001b[49m\n",
      "File \u001b[0;32m/opt/anaconda3/envs/PhD/lib/python3.12/site-packages/grpc/_utilities.py:106\u001b[0m, in \u001b[0;36m_ChannelReadyFuture._block\u001b[0;34m(self, timeout)\u001b[0m\n\u001b[1;32m    105\u001b[0m \u001b[38;5;28;01mif\u001b[39;00m remaining \u001b[38;5;241m<\u001b[39m \u001b[38;5;241m0\u001b[39m:\n\u001b[0;32m--> 106\u001b[0m     \u001b[38;5;28;01mraise\u001b[39;00m grpc\u001b[38;5;241m.\u001b[39mFutureTimeoutError()\n\u001b[1;32m    107\u001b[0m \u001b[38;5;28;01melse\u001b[39;00m:\n",
      "\u001b[0;31mFutureTimeoutError\u001b[0m: ",
      "\nThe above exception was the direct cause of the following exception:\n",
      "\u001b[0;31mMilvusException\u001b[0m                           Traceback (most recent call last)",
      "Cell \u001b[0;32mIn[1], line 15\u001b[0m\n\u001b[1;32m      8\u001b[0m \u001b[38;5;28;01mfrom\u001b[39;00m\u001b[38;5;250m \u001b[39m\u001b[38;5;21;01mpymilvus\u001b[39;00m\u001b[38;5;250m \u001b[39m\u001b[38;5;28;01mimport\u001b[39;00m (\n\u001b[1;32m      9\u001b[0m     connections,\n\u001b[1;32m     10\u001b[0m     FieldSchema, CollectionSchema, DataType,\n\u001b[1;32m     11\u001b[0m     Collection\n\u001b[1;32m     12\u001b[0m )\n\u001b[1;32m     14\u001b[0m \u001b[38;5;66;03m# Connect to Milvus (assumes Milvus is running on localhost at port 19530)\u001b[39;00m\n\u001b[0;32m---> 15\u001b[0m \u001b[43mconnections\u001b[49m\u001b[38;5;241;43m.\u001b[39;49m\u001b[43mconnect\u001b[49m\u001b[43m(\u001b[49m\u001b[43malias\u001b[49m\u001b[38;5;241;43m=\u001b[39;49m\u001b[38;5;124;43m\"\u001b[39;49m\u001b[38;5;124;43mdefault\u001b[39;49m\u001b[38;5;124;43m\"\u001b[39;49m\u001b[43m,\u001b[49m\u001b[43m \u001b[49m\u001b[43mhost\u001b[49m\u001b[38;5;241;43m=\u001b[39;49m\u001b[38;5;124;43m\"\u001b[39;49m\u001b[38;5;124;43mlocalhost\u001b[39;49m\u001b[38;5;124;43m\"\u001b[39;49m\u001b[43m,\u001b[49m\u001b[43m \u001b[49m\u001b[43mport\u001b[49m\u001b[38;5;241;43m=\u001b[39;49m\u001b[38;5;124;43m\"\u001b[39;49m\u001b[38;5;124;43m19530\u001b[39;49m\u001b[38;5;124;43m\"\u001b[39;49m\u001b[43m)\u001b[49m\n\u001b[1;32m     17\u001b[0m \u001b[38;5;66;03m# Define schema for the embeddings collection using string IDs.\u001b[39;00m\n\u001b[1;32m     18\u001b[0m id_field \u001b[38;5;241m=\u001b[39m FieldSchema(\n\u001b[1;32m     19\u001b[0m     name\u001b[38;5;241m=\u001b[39m\u001b[38;5;124m\"\u001b[39m\u001b[38;5;124mid\u001b[39m\u001b[38;5;124m\"\u001b[39m, \n\u001b[1;32m     20\u001b[0m     dtype\u001b[38;5;241m=\u001b[39mDataType\u001b[38;5;241m.\u001b[39mVARCHAR, \n\u001b[0;32m   (...)\u001b[0m\n\u001b[1;32m     24\u001b[0m     description\u001b[38;5;241m=\u001b[39m\u001b[38;5;124m\"\u001b[39m\u001b[38;5;124mUnique identifier for each node (string)\u001b[39m\u001b[38;5;124m\"\u001b[39m\n\u001b[1;32m     25\u001b[0m )\n",
      "File \u001b[0;32m/opt/anaconda3/envs/PhD/lib/python3.12/site-packages/pymilvus/orm/connections.py:461\u001b[0m, in \u001b[0;36mConnections.connect\u001b[0;34m(self, alias, user, password, db_name, token, _async, **kwargs)\u001b[0m\n\u001b[1;32m    458\u001b[0m         \u001b[38;5;28;01mif\u001b[39;00m parsed_uri\u001b[38;5;241m.\u001b[39mscheme \u001b[38;5;241m==\u001b[39m \u001b[38;5;124m\"\u001b[39m\u001b[38;5;124mhttps\u001b[39m\u001b[38;5;124m\"\u001b[39m:\n\u001b[1;32m    459\u001b[0m             kwargs[\u001b[38;5;124m\"\u001b[39m\u001b[38;5;124msecure\u001b[39m\u001b[38;5;124m\"\u001b[39m] \u001b[38;5;241m=\u001b[39m \u001b[38;5;28;01mTrue\u001b[39;00m\n\u001b[0;32m--> 461\u001b[0m     \u001b[43mconnect_milvus\u001b[49m\u001b[43m(\u001b[49m\u001b[38;5;241;43m*\u001b[39;49m\u001b[38;5;241;43m*\u001b[39;49m\u001b[43mkwargs\u001b[49m\u001b[43m,\u001b[49m\u001b[43m \u001b[49m\u001b[43muser\u001b[49m\u001b[38;5;241;43m=\u001b[39;49m\u001b[43muser\u001b[49m\u001b[43m,\u001b[49m\u001b[43m \u001b[49m\u001b[43mpassword\u001b[49m\u001b[38;5;241;43m=\u001b[39;49m\u001b[43mpassword\u001b[49m\u001b[43m,\u001b[49m\u001b[43m \u001b[49m\u001b[43mtoken\u001b[49m\u001b[38;5;241;43m=\u001b[39;49m\u001b[43mtoken\u001b[49m\u001b[43m,\u001b[49m\u001b[43m \u001b[49m\u001b[43mdb_name\u001b[49m\u001b[38;5;241;43m=\u001b[39;49m\u001b[43mdb_name\u001b[49m\u001b[43m)\u001b[49m\n\u001b[1;32m    462\u001b[0m     \u001b[38;5;28;01mreturn\u001b[39;00m\n\u001b[1;32m    464\u001b[0m \u001b[38;5;66;03m# 2nd Priority, connection configs from env\u001b[39;00m\n",
      "File \u001b[0;32m/opt/anaconda3/envs/PhD/lib/python3.12/site-packages/pymilvus/orm/connections.py:411\u001b[0m, in \u001b[0;36mConnections.connect.<locals>.connect_milvus\u001b[0;34m(**kwargs)\u001b[0m\n\u001b[1;32m    408\u001b[0m timeout \u001b[38;5;241m=\u001b[39m t \u001b[38;5;28;01mif\u001b[39;00m \u001b[38;5;28misinstance\u001b[39m(t, (\u001b[38;5;28mint\u001b[39m, \u001b[38;5;28mfloat\u001b[39m)) \u001b[38;5;28;01melse\u001b[39;00m Config\u001b[38;5;241m.\u001b[39mMILVUS_CONN_TIMEOUT\n\u001b[1;32m    410\u001b[0m \u001b[38;5;28;01mif\u001b[39;00m \u001b[38;5;129;01mnot\u001b[39;00m _async:\n\u001b[0;32m--> 411\u001b[0m     \u001b[43mgh\u001b[49m\u001b[38;5;241;43m.\u001b[39;49m\u001b[43m_wait_for_channel_ready\u001b[49m\u001b[43m(\u001b[49m\u001b[43mtimeout\u001b[49m\u001b[38;5;241;43m=\u001b[39;49m\u001b[43mtimeout\u001b[49m\u001b[43m)\u001b[49m\n\u001b[1;32m    413\u001b[0m \u001b[38;5;28;01mif\u001b[39;00m kwargs\u001b[38;5;241m.\u001b[39mget(\u001b[38;5;124m\"\u001b[39m\u001b[38;5;124mkeep_alive\u001b[39m\u001b[38;5;124m\"\u001b[39m, \u001b[38;5;28;01mFalse\u001b[39;00m):\n\u001b[1;32m    414\u001b[0m     gh\u001b[38;5;241m.\u001b[39mregister_state_change_callback(\n\u001b[1;32m    415\u001b[0m         ReconnectHandler(\u001b[38;5;28mself\u001b[39m, alias, kwargs_copy)\u001b[38;5;241m.\u001b[39mreconnect_on_idle\n\u001b[1;32m    416\u001b[0m     )\n",
      "File \u001b[0;32m/opt/anaconda3/envs/PhD/lib/python3.12/site-packages/pymilvus/client/grpc_handler.py:152\u001b[0m, in \u001b[0;36mGrpcHandler._wait_for_channel_ready\u001b[0;34m(self, timeout)\u001b[0m\n\u001b[1;32m    150\u001b[0m     \u001b[38;5;28mself\u001b[39m\u001b[38;5;241m.\u001b[39m_setup_identifier_interceptor(\u001b[38;5;28mself\u001b[39m\u001b[38;5;241m.\u001b[39m_user, timeout\u001b[38;5;241m=\u001b[39mtimeout)\n\u001b[1;32m    151\u001b[0m \u001b[38;5;28;01mexcept\u001b[39;00m grpc\u001b[38;5;241m.\u001b[39mFutureTimeoutError \u001b[38;5;28;01mas\u001b[39;00m e:\n\u001b[0;32m--> 152\u001b[0m     \u001b[38;5;28;01mraise\u001b[39;00m MilvusException(\n\u001b[1;32m    153\u001b[0m         code\u001b[38;5;241m=\u001b[39mStatus\u001b[38;5;241m.\u001b[39mCONNECT_FAILED,\n\u001b[1;32m    154\u001b[0m         message\u001b[38;5;241m=\u001b[39m\u001b[38;5;124mf\u001b[39m\u001b[38;5;124m\"\u001b[39m\u001b[38;5;124mFail connecting to server on \u001b[39m\u001b[38;5;132;01m{\u001b[39;00m\u001b[38;5;28mself\u001b[39m\u001b[38;5;241m.\u001b[39m_address\u001b[38;5;132;01m}\u001b[39;00m\u001b[38;5;124m, illegal connection params or server unavailable\u001b[39m\u001b[38;5;124m\"\u001b[39m,\n\u001b[1;32m    155\u001b[0m     ) \u001b[38;5;28;01mfrom\u001b[39;00m\u001b[38;5;250m \u001b[39m\u001b[38;5;21;01me\u001b[39;00m\n\u001b[1;32m    156\u001b[0m \u001b[38;5;28;01mexcept\u001b[39;00m \u001b[38;5;167;01mException\u001b[39;00m \u001b[38;5;28;01mas\u001b[39;00m e:\n\u001b[1;32m    157\u001b[0m     \u001b[38;5;28;01mraise\u001b[39;00m e \u001b[38;5;28;01mfrom\u001b[39;00m\u001b[38;5;250m \u001b[39m\u001b[38;5;21;01me\u001b[39;00m\n",
      "\u001b[0;31mMilvusException\u001b[0m: <MilvusException: (code=2, message=Fail connecting to server on localhost:19530, illegal connection params or server unavailable)>"
     ]
    }
   ],
   "source": [
    "from util.run_go_term_embedding_api import load_output_jsonl\n",
    "import json\n",
    "\n",
    "import numpy as np\n",
    "import pandas as pd\n",
    "\n",
    "import pandas as pd\n",
    "from pymilvus import (\n",
    "    connections,\n",
    "    FieldSchema, CollectionSchema, DataType,\n",
    "    Collection\n",
    ")\n",
    "\n",
    "# Connect to Milvus (assumes Milvus is running on localhost at port 19530)\n",
    "connections.connect(alias=\"default\", host=\"localhost\", port=\"19530\")\n",
    "\n",
    "# Define schema for the embeddings collection using string IDs.\n",
    "id_field = FieldSchema(\n",
    "    name=\"id\", \n",
    "    dtype=DataType.VARCHAR, \n",
    "    max_length=150,\n",
    "    is_primary=True, \n",
    "    auto_id=False, \n",
    "    description=\"Unique identifier for each node (string)\"\n",
    ")\n",
    "embedding_field = FieldSchema(\n",
    "    name=\"embedding\", \n",
    "    dtype=DataType.FLOAT_VECTOR, \n",
    "    dim=1536,\n",
    "    description=\"High-dimensional vector for the node\"\n",
    ")\n",
    "embeddings_schema = CollectionSchema(\n",
    "    fields=[id_field, embedding_field], \n",
    "    description=\"Collection to store node embeddings\"\n",
    ")\n",
    "\n",
    "# Create the embeddings collection\n",
    "embeddings_collection = Collection(name=\"embeddings_collection\", schema=embeddings_schema)\n",
    "print(\"Created collection:\", embeddings_collection.name)\n",
    "\n",
    "\n",
    "for file_number in range(0, 32):\n",
    "    print(f\"Processing chunk {file_number}\")\n",
    "    file_df = pd.read_parquet(f\"data/parquet_chunks/chunk_{file_number}.parquet\")\n",
    "    file_df = file_df.rename(columns={\"node_id\": \"id\"})\n",
    "    # remove rows where id is empty\n",
    "    \n",
    "    # Insert the data into Milvus in batches of 1000\n",
    "    chunk_size = 10000\n",
    "    for start in range(0, len(file_df), chunk_size):\n",
    "        chunk_df = file_df.iloc[start:start + chunk_size]\n",
    "        # You can now process each chunk as needed\n",
    "        #remove rows where id is empty\n",
    "        chunk_df = chunk_df[chunk_df[\"id\"].notna()]\n",
    "        #filter out rows where id is longer than 100 characters\n",
    "        chunk_df = chunk_df[chunk_df[\"id\"].str.len() <= 100]\n",
    "        \n",
    "        print(\"max id length\", chunk_df[\"id\"].str.len().max())\n",
    "        \n",
    "\n",
    "        data_embeddings = [\n",
    "\n",
    "            chunk_df[\"id\"].str[:].tolist(),          # string IDs\n",
    "            chunk_df[\"embedding\"].tolist()\n",
    "        ]\n",
    "        insert_result = embeddings_collection.insert(data_embeddings)\n",
    "\n",
    "    # now flush the collection\n",
    "    embeddings_collection.flush()\n",
    "    \n",
    "print(\"creating index\")\n",
    "index_params = {\n",
    "    \"index_type\": \"IVF_FLAT\",  # Choose the appropriate index type\n",
    "    \"metric_type\": \"L2\",       # Choose the appropriate metric\n",
    "    \"params\": {\"nlist\": 128}   # Adjust 'nlist' as needed\n",
    "}\n",
    "embeddings_collection.create_index(field_name=\"embedding\", index_params=index_params)\n",
    "\n",
    "#flush the collection\n",
    "embeddings_collection.flush()\n",
    "\n",
    "\n"
   ]
  },
  {
   "cell_type": "code",
   "execution_count": 51,
   "metadata": {},
   "outputs": [],
   "source": [
    "embeddings_collection.flush()"
   ]
  },
  {
   "cell_type": "code",
   "execution_count": 52,
   "metadata": {},
   "outputs": [],
   "source": [
    "embeddings_collection.load()"
   ]
  },
  {
   "cell_type": "code",
   "execution_count": null,
   "metadata": {},
   "outputs": [],
   "source": [
    "print(\"creating index\")\n",
    "index_params = {\n",
    "    \"index_type\": \"IVF_FLAT\",  # Choose the appropriate index type\n",
    "    \"metric_type\": \"COSINE\",       # Choose the appropriate metric\n",
    "    \"params\": {\"nlist\": 128}   # Adjust 'nlist' as needed\n",
    "}\n",
    "\n",
    "embeddings_collection.create_index(field_name=\"embedding\", index_params=index_params)\n",
    "\n",
    "#flush the collection\n",
    "embeddings_collection.flush()"
   ]
  },
  {
   "cell_type": "code",
   "execution_count": 53,
   "metadata": {},
   "outputs": [
    {
     "name": "stdout",
     "output_type": "stream",
     "text": [
      "Search Results: data: ['[\"id: nuclear chromosome [cellular c, distance: 0.17091326415538788, entity: {\\'id\\': \\'nuclear chromosome [cellular c\\'}\", \"id: nuclear chromosomes [subcellul, distance: 0.21435533463954926, entity: {\\'id\\': \\'nuclear chromosomes [subcellul\\'}\", \"id: nuclear chromosomes [organ], distance: 0.22352105379104614, entity: {\\'id\\': \\'nuclear chromosomes [organ]\\'}\", \"id: nuclear chromosomes [genetic m, distance: 0.22971370816230774, entity: {\\'id\\': \\'nuclear chromosomes [genetic m\\'}\", \"id: Nuclear genome [organelle], distance: 0.23080316185951233, entity: {\\'id\\': \\'Nuclear genome [organelle]\\'}\"]']\n"
     ]
    }
   ],
   "source": [
    "\n",
    "# Search for the following embedding in the database:\n",
    "embeddings_collection.load()\n",
    "query_embedding = classes_df.loc[0, \"embedding\"]\n",
    "\n",
    "search_params = {\"metric_type\": \"L2\", \"params\": {\"nprobe\": 10}}\n",
    "results = embeddings_collection.search(\n",
    "    data=[query_embedding],\n",
    "    anns_field=\"embedding\",\n",
    "    param=search_params,\n",
    "    limit=5,\n",
    "    output_fields=[\"id\"]\n",
    ")\n",
    "\n",
    "# Results\n",
    "print(\"Search Results:\", results)"
   ]
  },
  {
   "cell_type": "markdown",
   "metadata": {},
   "source": [
    "# loading the data 1 by 1"
   ]
  },
  {
   "cell_type": "code",
   "execution_count": 36,
   "metadata": {},
   "outputs": [
    {
     "name": "stdout",
     "output_type": "stream",
     "text": [
      "TAIR GO IDs: 97\n",
      "GO IDs: 141\n",
      "Difference: 106\n"
     ]
    }
   ],
   "source": [
    "from util.TAIR_embedding_dataloader import go_df, unique_slim_terms\n",
    "# Read the file, skipping the header comments that start with '!'\n",
    "tair_df = pd.read_csv('data/TAIR/TAIR_GO_slim_categories.txt', \n",
    "                 sep='\\t',                    # Tab-separated\n",
    "                 comment='!',                 # Skip lines starting with !\n",
    "                 skip_blank_lines=True,       # Skip any blank lines\n",
    "                 encoding='utf-8',            # Specify encoding\n",
    "                 names=['ONTOLOGY ASPECT', 'GO TERM', 'GO_ID', 'DEFINITION', 'SLIM_NAME'],  # Exact column names\n",
    ")\n",
    "# Clean up any whitespace in the data\n",
    "tair_df = tair_df.apply(lambda x: x.str.strip() if x.dtype == \"object\" else x)\n",
    "\n",
    "set_go_df = set(unique_slim_terms)\n",
    "set_tair_df = set(tair_df[\"GO_ID\"].unique())\n",
    "#go_df = go_df[go_df.index.isin(set_tair_df)]\n",
    "print(\"TAIR GO IDs:\", len(set_tair_df))\n",
    "print(\"GO IDs:\", len(set_go_df))\n",
    "\n",
    "#find the difference between the two sets\n",
    "difference = set_go_df - set_tair_df\n",
    "print(\"Difference:\", len(difference))\n"
   ]
  },
  {
   "cell_type": "code",
   "execution_count": 37,
   "metadata": {},
   "outputs": [
    {
     "data": {
      "text/html": [
       "<div>\n",
       "<style scoped>\n",
       "    .dataframe tbody tr th:only-of-type {\n",
       "        vertical-align: middle;\n",
       "    }\n",
       "\n",
       "    .dataframe tbody tr th {\n",
       "        vertical-align: top;\n",
       "    }\n",
       "\n",
       "    .dataframe thead th {\n",
       "        text-align: right;\n",
       "    }\n",
       "</style>\n",
       "<table border=\"1\" class=\"dataframe\">\n",
       "  <thead>\n",
       "    <tr style=\"text-align: right;\">\n",
       "      <th></th>\n",
       "      <th>name</th>\n",
       "      <th>namespace</th>\n",
       "      <th>def</th>\n",
       "      <th>is_obsolete</th>\n",
       "      <th>alt_ids</th>\n",
       "      <th>parents</th>\n",
       "      <th>children</th>\n",
       "      <th>slim_go_id</th>\n",
       "    </tr>\n",
       "  </thead>\n",
       "  <tbody>\n",
       "    <tr>\n",
       "      <th>GO:0000001</th>\n",
       "      <td>mitochondrion inheritance</td>\n",
       "      <td>biological_process</td>\n",
       "      <td>The distribution of mitochondria, including th...</td>\n",
       "      <td>False</td>\n",
       "      <td>[]</td>\n",
       "      <td>[GO:0000001, GO:0048308, GO:0048311]</td>\n",
       "      <td>[GO:0000001]</td>\n",
       "      <td>[{}]</td>\n",
       "    </tr>\n",
       "    <tr>\n",
       "      <th>GO:0000002</th>\n",
       "      <td>mitochondrial genome maintenance</td>\n",
       "      <td>biological_process</td>\n",
       "      <td>The maintenance of the structure and integrity...</td>\n",
       "      <td>False</td>\n",
       "      <td>[]</td>\n",
       "      <td>[GO:0000002, GO:0007005]</td>\n",
       "      <td>[GO:0000002]</td>\n",
       "      <td>[{GO:0007005}]</td>\n",
       "    </tr>\n",
       "    <tr>\n",
       "      <th>GO:0000006</th>\n",
       "      <td>high-affinity zinc transmembrane transporter a...</td>\n",
       "      <td>molecular_function</td>\n",
       "      <td>Enables the transfer of zinc ions (Zn2+) from ...</td>\n",
       "      <td>False</td>\n",
       "      <td>[]</td>\n",
       "      <td>[GO:0000006, GO:0005385]</td>\n",
       "      <td>[GO:0000006]</td>\n",
       "      <td>[{GO:0005215}]</td>\n",
       "    </tr>\n",
       "    <tr>\n",
       "      <th>GO:0000007</th>\n",
       "      <td>low-affinity zinc ion transmembrane transporte...</td>\n",
       "      <td>molecular_function</td>\n",
       "      <td>Enables the transfer of a solute or solutes fr...</td>\n",
       "      <td>False</td>\n",
       "      <td>[]</td>\n",
       "      <td>[GO:0000007, GO:0005385]</td>\n",
       "      <td>[GO:0000007]</td>\n",
       "      <td>[{GO:0005215}]</td>\n",
       "    </tr>\n",
       "    <tr>\n",
       "      <th>GO:0000009</th>\n",
       "      <td>alpha-1,6-mannosyltransferase activity</td>\n",
       "      <td>molecular_function</td>\n",
       "      <td>Catalysis of the transfer of a mannose residue...</td>\n",
       "      <td>False</td>\n",
       "      <td>[]</td>\n",
       "      <td>[GO:0000009, GO:0000030]</td>\n",
       "      <td>[GO:0000009, GO:0033164, GO:0052917]</td>\n",
       "      <td>[{GO:0016740, GO:0003824}]</td>\n",
       "    </tr>\n",
       "    <tr>\n",
       "      <th>...</th>\n",
       "      <td>...</td>\n",
       "      <td>...</td>\n",
       "      <td>...</td>\n",
       "      <td>...</td>\n",
       "      <td>...</td>\n",
       "      <td>...</td>\n",
       "      <td>...</td>\n",
       "      <td>...</td>\n",
       "    </tr>\n",
       "    <tr>\n",
       "      <th>GO:1904143</th>\n",
       "      <td>positive regulation of carotenoid biosynthetic...</td>\n",
       "      <td>biological_process</td>\n",
       "      <td>Any process that activates or increases the fr...</td>\n",
       "      <td>False</td>\n",
       "      <td>[]</td>\n",
       "      <td>[GO:1904143, GO:0045828, GO:0046889]</td>\n",
       "      <td>[GO:1904143]</td>\n",
       "      <td>[{}]</td>\n",
       "    </tr>\n",
       "    <tr>\n",
       "      <th>GO:1904144</th>\n",
       "      <td>phosphatidylinositol phosphate phosphatase com...</td>\n",
       "      <td>cellular_component</td>\n",
       "      <td>A protein complex which is capable of phosphat...</td>\n",
       "      <td>False</td>\n",
       "      <td>[]</td>\n",
       "      <td>[GO:1904144, GO:1903293]</td>\n",
       "      <td>[GO:1904144, GO:1990455]</td>\n",
       "      <td>[{}]</td>\n",
       "    </tr>\n",
       "    <tr>\n",
       "      <th>GO:1904145</th>\n",
       "      <td>negative regulation of meiotic cell cycle proc...</td>\n",
       "      <td>biological_process</td>\n",
       "      <td>Any process that stops, prevents or reduces th...</td>\n",
       "      <td>False</td>\n",
       "      <td>[]</td>\n",
       "      <td>[GO:1904145, GO:0010948, GO:0051447, GO:190019...</td>\n",
       "      <td>[GO:1904145]</td>\n",
       "      <td>[{}]</td>\n",
       "    </tr>\n",
       "    <tr>\n",
       "      <th>GO:1904146</th>\n",
       "      <td>positive regulation of meiotic cell cycle proc...</td>\n",
       "      <td>biological_process</td>\n",
       "      <td>Any process that activates or increases the fr...</td>\n",
       "      <td>False</td>\n",
       "      <td>[]</td>\n",
       "      <td>[GO:1904146, GO:0051446, GO:0090068, GO:1903538]</td>\n",
       "      <td>[GO:1904146]</td>\n",
       "      <td>[{}]</td>\n",
       "    </tr>\n",
       "    <tr>\n",
       "      <th>GO:1904147</th>\n",
       "      <td>response to nonylphenol</td>\n",
       "      <td>biological_process</td>\n",
       "      <td>Any process that results in a change in state ...</td>\n",
       "      <td>False</td>\n",
       "      <td>[]</td>\n",
       "      <td>[GO:1904147, GO:0042221]</td>\n",
       "      <td>[GO:1904147, GO:1904148]</td>\n",
       "      <td>[{}]</td>\n",
       "    </tr>\n",
       "  </tbody>\n",
       "</table>\n",
       "<p>40635 rows × 8 columns</p>\n",
       "</div>"
      ],
      "text/plain": [
       "                                                         name  \\\n",
       "GO:0000001                          mitochondrion inheritance   \n",
       "GO:0000002                   mitochondrial genome maintenance   \n",
       "GO:0000006  high-affinity zinc transmembrane transporter a...   \n",
       "GO:0000007  low-affinity zinc ion transmembrane transporte...   \n",
       "GO:0000009             alpha-1,6-mannosyltransferase activity   \n",
       "...                                                       ...   \n",
       "GO:1904143  positive regulation of carotenoid biosynthetic...   \n",
       "GO:1904144  phosphatidylinositol phosphate phosphatase com...   \n",
       "GO:1904145  negative regulation of meiotic cell cycle proc...   \n",
       "GO:1904146  positive regulation of meiotic cell cycle proc...   \n",
       "GO:1904147                            response to nonylphenol   \n",
       "\n",
       "                     namespace  \\\n",
       "GO:0000001  biological_process   \n",
       "GO:0000002  biological_process   \n",
       "GO:0000006  molecular_function   \n",
       "GO:0000007  molecular_function   \n",
       "GO:0000009  molecular_function   \n",
       "...                        ...   \n",
       "GO:1904143  biological_process   \n",
       "GO:1904144  cellular_component   \n",
       "GO:1904145  biological_process   \n",
       "GO:1904146  biological_process   \n",
       "GO:1904147  biological_process   \n",
       "\n",
       "                                                          def  is_obsolete  \\\n",
       "GO:0000001  The distribution of mitochondria, including th...        False   \n",
       "GO:0000002  The maintenance of the structure and integrity...        False   \n",
       "GO:0000006  Enables the transfer of zinc ions (Zn2+) from ...        False   \n",
       "GO:0000007  Enables the transfer of a solute or solutes fr...        False   \n",
       "GO:0000009  Catalysis of the transfer of a mannose residue...        False   \n",
       "...                                                       ...          ...   \n",
       "GO:1904143  Any process that activates or increases the fr...        False   \n",
       "GO:1904144  A protein complex which is capable of phosphat...        False   \n",
       "GO:1904145  Any process that stops, prevents or reduces th...        False   \n",
       "GO:1904146  Any process that activates or increases the fr...        False   \n",
       "GO:1904147  Any process that results in a change in state ...        False   \n",
       "\n",
       "           alt_ids                                            parents  \\\n",
       "GO:0000001      []               [GO:0000001, GO:0048308, GO:0048311]   \n",
       "GO:0000002      []                           [GO:0000002, GO:0007005]   \n",
       "GO:0000006      []                           [GO:0000006, GO:0005385]   \n",
       "GO:0000007      []                           [GO:0000007, GO:0005385]   \n",
       "GO:0000009      []                           [GO:0000009, GO:0000030]   \n",
       "...            ...                                                ...   \n",
       "GO:1904143      []               [GO:1904143, GO:0045828, GO:0046889]   \n",
       "GO:1904144      []                           [GO:1904144, GO:1903293]   \n",
       "GO:1904145      []  [GO:1904145, GO:0010948, GO:0051447, GO:190019...   \n",
       "GO:1904146      []   [GO:1904146, GO:0051446, GO:0090068, GO:1903538]   \n",
       "GO:1904147      []                           [GO:1904147, GO:0042221]   \n",
       "\n",
       "                                        children                  slim_go_id  \n",
       "GO:0000001                          [GO:0000001]                        [{}]  \n",
       "GO:0000002                          [GO:0000002]              [{GO:0007005}]  \n",
       "GO:0000006                          [GO:0000006]              [{GO:0005215}]  \n",
       "GO:0000007                          [GO:0000007]              [{GO:0005215}]  \n",
       "GO:0000009  [GO:0000009, GO:0033164, GO:0052917]  [{GO:0016740, GO:0003824}]  \n",
       "...                                          ...                         ...  \n",
       "GO:1904143                          [GO:1904143]                        [{}]  \n",
       "GO:1904144              [GO:1904144, GO:1990455]                        [{}]  \n",
       "GO:1904145                          [GO:1904145]                        [{}]  \n",
       "GO:1904146                          [GO:1904146]                        [{}]  \n",
       "GO:1904147              [GO:1904147, GO:1904148]                        [{}]  \n",
       "\n",
       "[40635 rows x 8 columns]"
      ]
     },
     "execution_count": 37,
     "metadata": {},
     "output_type": "execute_result"
    }
   ],
   "source": [
    "go_df"
   ]
  },
  {
   "cell_type": "code",
   "execution_count": 63,
   "metadata": {},
   "outputs": [
    {
     "data": {
      "text/plain": [
       "name                                               cell adhesion\n",
       "namespace                                     biological_process\n",
       "def            The attachment of a cell, either to another ce...\n",
       "is_obsolete                                                False\n",
       "alt_ids                                             [GO:0098602]\n",
       "parents                                 [GO:0007155, GO:0009987]\n",
       "children       [GO:0007155, GO:0003392, GO:0031589, GO:003362...\n",
       "slim_go_id                                        [{GO:0007155}]\n",
       "Name: GO:0007155, dtype: object"
      ]
     },
     "execution_count": 63,
     "metadata": {},
     "output_type": "execute_result"
    }
   ],
   "source": [
    "query = classes_df.loc[52,\"id\"]\n",
    "query_info = go_df.loc[query]\n",
    "query_info"
   ]
  },
  {
   "cell_type": "code",
   "execution_count": null,
   "metadata": {},
   "outputs": [
    {
     "name": "stdout",
     "output_type": "stream",
     "text": [
      "Search Results: data: [\"['id: Cell-cell adhesion [process], distance: 0.1471722573041916, entity: {}', 'id: cellular adhesion [process], distance: 0.16066783666610718, entity: {}', 'id: cell-adhesion [phenotype], distance: 0.16897818446159363, entity: {}', 'id: cell adhesiveness [process], distance: 0.17458701133728027, entity: {}', 'id: Biological adhesion [process], distance: 0.174787700176239, entity: {}']\"]\n"
     ]
    }
   ],
   "source": [
    "query_embedding = classes_df.loc[52,\"embedding\"]\n",
    "search_params = {\"metric_type\": \"L2\", \"params\": {\"nprobe\": 20}}\n",
    "results = embeddings_collection.search(\n",
    "    data=[query_embedding],\n",
    "    anns_field=\"embedding\",\n",
    "    param=search_params,\n",
    "    limit=5,\n",
    "    #output_fields=[\"id\"]\n",
    ")\n",
    "\n",
    "# Results\n",
    "print(\"Search Results:\", results)\n",
    "\n"
   ]
  },
  {
   "cell_type": "markdown",
   "metadata": {},
   "source": [
    "# Searching"
   ]
  },
  {
   "cell_type": "markdown",
   "metadata": {},
   "source": [
    "# Working with the database"
   ]
  },
  {
   "cell_type": "code",
   "execution_count": null,
   "metadata": {},
   "outputs": [
    {
     "name": "stdout",
     "output_type": "stream",
     "text": [
      "Number of entities in the collection: 3128221\n"
     ]
    }
   ],
   "source": [
    "# Get collection statistics\n",
    "stats = embeddings_collection.num_entities\n",
    "print(f\"Number of entities in the collection: {stats}\")\n"
   ]
  },
  {
   "cell_type": "markdown",
   "metadata": {},
   "source": [
    "# Closing"
   ]
  },
  {
   "cell_type": "code",
   "execution_count": 83,
   "metadata": {},
   "outputs": [],
   "source": [
    "\n",
    "# #close milvus and start over\n",
    "embeddings_collection.drop()\n",
    "connections.disconnect(alias=\"default\")\n"
   ]
  },
  {
   "cell_type": "markdown",
   "metadata": {},
   "source": [
    "# shutting down "
   ]
  },
  {
   "cell_type": "code",
   "execution_count": 79,
   "metadata": {},
   "outputs": [],
   "source": [
    "#remember to flush the collection\n",
    "embeddings_collection.flush()\n",
    "connections.disconnect(alias=\"default\")\n",
    "\n"
   ]
  },
  {
   "cell_type": "markdown",
   "metadata": {},
   "source": [
    "Then run following command from right folder to shut down docker image:\n",
    "\n",
    "    bash standalone_embed.sh stop  "
   ]
  },
  {
   "cell_type": "markdown",
   "metadata": {},
   "source": [
    "# Reopen\n",
    "\n",
    "    bash standalone_embed.sh start "
   ]
  },
  {
   "cell_type": "code",
   "execution_count": 76,
   "metadata": {},
   "outputs": [],
   "source": [
    "#reopen milvus\n",
    "connections.connect(alias=\"default\", host=\"localhost\", port=\"19530\")\n",
    "#reload embeddings_collection\n",
    "embeddings_collection = Collection(\"embeddings_collection\")\n",
    "embeddings_collection.load()"
   ]
  },
  {
   "cell_type": "code",
   "execution_count": 78,
   "metadata": {},
   "outputs": [],
   "source": [
    "embeddings_collection.flush()"
   ]
  },
  {
   "cell_type": "code",
   "execution_count": 73,
   "metadata": {},
   "outputs": [
    {
     "name": "stdout",
     "output_type": "stream",
     "text": [
      "Search Results: data: [\"['id: Cell-cell adhesion [process], distance: 0.1471722573041916, entity: {}', 'id: cellular adhesion [process], distance: 0.16066783666610718, entity: {}', 'id: cell-adhesion [phenotype], distance: 0.16897818446159363, entity: {}', 'id: cell adhesiveness [process], distance: 0.17458701133728027, entity: {}', 'id: Biological adhesion [process], distance: 0.174787700176239, entity: {}']\"]\n"
     ]
    }
   ],
   "source": [
    "query_embedding = classes_df.loc[52,\"embedding\"]\n",
    "search_params = {\"metric_type\": \"L2\", \"params\": {\"nprobe\": 20}}\n",
    "results = embeddings_collection.search(\n",
    "    data=[query_embedding],\n",
    "    anns_field=\"embedding\",\n",
    "    param=search_params,\n",
    "    limit=5,\n",
    "    #output_fields=[\"id\"]\n",
    ")\n",
    "\n",
    "# Results\n",
    "print(\"Search Results:\", results)\n"
   ]
  },
  {
   "cell_type": "code",
   "execution_count": 70,
   "metadata": {},
   "outputs": [
    {
     "data": {
      "text/plain": [
       "[('default', <pymilvus.client.grpc_handler.GrpcHandler at 0x349ec66c0>)]"
      ]
     },
     "execution_count": 70,
     "metadata": {},
     "output_type": "execute_result"
    }
   ],
   "source": [
    "connections.list_connections()"
   ]
  },
  {
   "cell_type": "code",
   "execution_count": 4,
   "metadata": {},
   "outputs": [
    {
     "ename": "TypeError",
     "evalue": "read_table() got an unexpected keyword argument 'chunksize'",
     "output_type": "error",
     "traceback": [
      "\u001b[0;31m---------------------------------------------------------------------------\u001b[0m",
      "\u001b[0;31mTypeError\u001b[0m                                 Traceback (most recent call last)",
      "Cell \u001b[0;32mIn[4], line 1\u001b[0m\n\u001b[0;32m----> 1\u001b[0m \u001b[38;5;28;01mfor\u001b[39;00m chunk \u001b[38;5;129;01min\u001b[39;00m \u001b[43mpd\u001b[49m\u001b[38;5;241;43m.\u001b[39;49m\u001b[43mread_parquet\u001b[49m\u001b[43m(\u001b[49m\u001b[38;5;124;43m\"\u001b[39;49m\u001b[38;5;124;43mdata/KG/all_merged_node_embeddings_100000.parquet\u001b[39;49m\u001b[38;5;124;43m\"\u001b[39;49m\u001b[43m,\u001b[49m\u001b[43m \u001b[49m\u001b[43mchunksize\u001b[49m\u001b[38;5;241;43m=\u001b[39;49m\u001b[43mchunk_size\u001b[49m\u001b[43m)\u001b[49m:\n\u001b[1;32m      2\u001b[0m     \u001b[38;5;66;03m# Rename the column from 'node_id' to 'id'\u001b[39;00m\n\u001b[1;32m      3\u001b[0m     chunk \u001b[38;5;241m=\u001b[39m chunk\u001b[38;5;241m.\u001b[39mrename(columns\u001b[38;5;241m=\u001b[39m{\u001b[38;5;124m\"\u001b[39m\u001b[38;5;124mnode_id\u001b[39m\u001b[38;5;124m\"\u001b[39m: \u001b[38;5;124m\"\u001b[39m\u001b[38;5;124mid\u001b[39m\u001b[38;5;124m\"\u001b[39m})\n\u001b[1;32m      4\u001b[0m     \u001b[38;5;28;01mbreak\u001b[39;00m\n",
      "File \u001b[0;32m/opt/anaconda3/envs/PhD/lib/python3.12/site-packages/pandas/io/parquet.py:667\u001b[0m, in \u001b[0;36mread_parquet\u001b[0;34m(path, engine, columns, storage_options, use_nullable_dtypes, dtype_backend, filesystem, filters, **kwargs)\u001b[0m\n\u001b[1;32m    664\u001b[0m     use_nullable_dtypes \u001b[38;5;241m=\u001b[39m \u001b[38;5;28;01mFalse\u001b[39;00m\n\u001b[1;32m    665\u001b[0m check_dtype_backend(dtype_backend)\n\u001b[0;32m--> 667\u001b[0m \u001b[38;5;28;01mreturn\u001b[39;00m \u001b[43mimpl\u001b[49m\u001b[38;5;241;43m.\u001b[39;49m\u001b[43mread\u001b[49m\u001b[43m(\u001b[49m\n\u001b[1;32m    668\u001b[0m \u001b[43m    \u001b[49m\u001b[43mpath\u001b[49m\u001b[43m,\u001b[49m\n\u001b[1;32m    669\u001b[0m \u001b[43m    \u001b[49m\u001b[43mcolumns\u001b[49m\u001b[38;5;241;43m=\u001b[39;49m\u001b[43mcolumns\u001b[49m\u001b[43m,\u001b[49m\n\u001b[1;32m    670\u001b[0m \u001b[43m    \u001b[49m\u001b[43mfilters\u001b[49m\u001b[38;5;241;43m=\u001b[39;49m\u001b[43mfilters\u001b[49m\u001b[43m,\u001b[49m\n\u001b[1;32m    671\u001b[0m \u001b[43m    \u001b[49m\u001b[43mstorage_options\u001b[49m\u001b[38;5;241;43m=\u001b[39;49m\u001b[43mstorage_options\u001b[49m\u001b[43m,\u001b[49m\n\u001b[1;32m    672\u001b[0m \u001b[43m    \u001b[49m\u001b[43muse_nullable_dtypes\u001b[49m\u001b[38;5;241;43m=\u001b[39;49m\u001b[43muse_nullable_dtypes\u001b[49m\u001b[43m,\u001b[49m\n\u001b[1;32m    673\u001b[0m \u001b[43m    \u001b[49m\u001b[43mdtype_backend\u001b[49m\u001b[38;5;241;43m=\u001b[39;49m\u001b[43mdtype_backend\u001b[49m\u001b[43m,\u001b[49m\n\u001b[1;32m    674\u001b[0m \u001b[43m    \u001b[49m\u001b[43mfilesystem\u001b[49m\u001b[38;5;241;43m=\u001b[39;49m\u001b[43mfilesystem\u001b[49m\u001b[43m,\u001b[49m\n\u001b[1;32m    675\u001b[0m \u001b[43m    \u001b[49m\u001b[38;5;241;43m*\u001b[39;49m\u001b[38;5;241;43m*\u001b[39;49m\u001b[43mkwargs\u001b[49m\u001b[43m,\u001b[49m\n\u001b[1;32m    676\u001b[0m \u001b[43m\u001b[49m\u001b[43m)\u001b[49m\n",
      "File \u001b[0;32m/opt/anaconda3/envs/PhD/lib/python3.12/site-packages/pandas/io/parquet.py:274\u001b[0m, in \u001b[0;36mPyArrowImpl.read\u001b[0;34m(self, path, columns, filters, use_nullable_dtypes, dtype_backend, storage_options, filesystem, **kwargs)\u001b[0m\n\u001b[1;32m    267\u001b[0m path_or_handle, handles, filesystem \u001b[38;5;241m=\u001b[39m _get_path_or_handle(\n\u001b[1;32m    268\u001b[0m     path,\n\u001b[1;32m    269\u001b[0m     filesystem,\n\u001b[1;32m    270\u001b[0m     storage_options\u001b[38;5;241m=\u001b[39mstorage_options,\n\u001b[1;32m    271\u001b[0m     mode\u001b[38;5;241m=\u001b[39m\u001b[38;5;124m\"\u001b[39m\u001b[38;5;124mrb\u001b[39m\u001b[38;5;124m\"\u001b[39m,\n\u001b[1;32m    272\u001b[0m )\n\u001b[1;32m    273\u001b[0m \u001b[38;5;28;01mtry\u001b[39;00m:\n\u001b[0;32m--> 274\u001b[0m     pa_table \u001b[38;5;241m=\u001b[39m \u001b[38;5;28;43mself\u001b[39;49m\u001b[38;5;241;43m.\u001b[39;49m\u001b[43mapi\u001b[49m\u001b[38;5;241;43m.\u001b[39;49m\u001b[43mparquet\u001b[49m\u001b[38;5;241;43m.\u001b[39;49m\u001b[43mread_table\u001b[49m\u001b[43m(\u001b[49m\n\u001b[1;32m    275\u001b[0m \u001b[43m        \u001b[49m\u001b[43mpath_or_handle\u001b[49m\u001b[43m,\u001b[49m\n\u001b[1;32m    276\u001b[0m \u001b[43m        \u001b[49m\u001b[43mcolumns\u001b[49m\u001b[38;5;241;43m=\u001b[39;49m\u001b[43mcolumns\u001b[49m\u001b[43m,\u001b[49m\n\u001b[1;32m    277\u001b[0m \u001b[43m        \u001b[49m\u001b[43mfilesystem\u001b[49m\u001b[38;5;241;43m=\u001b[39;49m\u001b[43mfilesystem\u001b[49m\u001b[43m,\u001b[49m\n\u001b[1;32m    278\u001b[0m \u001b[43m        \u001b[49m\u001b[43mfilters\u001b[49m\u001b[38;5;241;43m=\u001b[39;49m\u001b[43mfilters\u001b[49m\u001b[43m,\u001b[49m\n\u001b[1;32m    279\u001b[0m \u001b[43m        \u001b[49m\u001b[38;5;241;43m*\u001b[39;49m\u001b[38;5;241;43m*\u001b[39;49m\u001b[43mkwargs\u001b[49m\u001b[43m,\u001b[49m\n\u001b[1;32m    280\u001b[0m \u001b[43m    \u001b[49m\u001b[43m)\u001b[49m\n\u001b[1;32m    281\u001b[0m     result \u001b[38;5;241m=\u001b[39m pa_table\u001b[38;5;241m.\u001b[39mto_pandas(\u001b[38;5;241m*\u001b[39m\u001b[38;5;241m*\u001b[39mto_pandas_kwargs)\n\u001b[1;32m    283\u001b[0m     \u001b[38;5;28;01mif\u001b[39;00m manager \u001b[38;5;241m==\u001b[39m \u001b[38;5;124m\"\u001b[39m\u001b[38;5;124marray\u001b[39m\u001b[38;5;124m\"\u001b[39m:\n",
      "\u001b[0;31mTypeError\u001b[0m: read_table() got an unexpected keyword argument 'chunksize'"
     ]
    }
   ],
   "source": [
    "for file_df in pd.read_parquet(\"data/KG/all_merged_node_embeddings_100000.parquet\", chunksize=chunk_size):\n",
    "    # Rename the column from 'node_id' to 'id'\n",
    "    file_df = file_df.rename(columns={\"node_id\": \"id\"})\n",
    "    break"
   ]
  }
 ],
 "metadata": {
  "kernelspec": {
   "display_name": "PhD",
   "language": "python",
   "name": "python3"
  },
  "language_info": {
   "codemirror_mode": {
    "name": "ipython",
    "version": 3
   },
   "file_extension": ".py",
   "mimetype": "text/x-python",
   "name": "python",
   "nbconvert_exporter": "python",
   "pygments_lexer": "ipython3",
   "version": "3.12.2"
  }
 },
 "nbformat": 4,
 "nbformat_minor": 2
}
